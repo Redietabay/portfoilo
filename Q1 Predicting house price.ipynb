{
 "cells": [
  {
   "cell_type": "code",
   "execution_count": null,
   "id": "f64fccce-bbaa-479e-aea8-e35707598cf3",
   "metadata": {},
   "outputs": [],
   "source": [
    "import pandas as pd\n",
    "import numpy as np\n",
    "import matplotlib.pyplot as plt\n",
    "from sklearn.model_selection import train_test_split\n",
    "from sklearn.linear_model import LinearRegression\n",
    "from sklearn.metrics import mean_squared_error, r2_score"
   ]
  },
  {
   "cell_type": "markdown",
   "id": "0dd9bc13-7846-4ec4-ad07-9329bc522a34",
   "metadata": {},
   "source": [
    "Loading the data"
   ]
  },
  {
   "cell_type": "code",
   "execution_count": null,
   "id": "808ad497-a76d-4006-9146-03a432340329",
   "metadata": {},
   "outputs": [],
   "source": [
    "# Creating DataFrame for the data \n",
    "df = pd.read_csv('House_data.csv')\n"
   ]
  },
  {
   "cell_type": "markdown",
   "id": "f787e111-3959-4552-a5e4-daf563e807a4",
   "metadata": {},
   "source": [
    "Initial data inspaction"
   ]
  },
  {
   "cell_type": "code",
   "execution_count": null,
   "id": "a4be8d8e-75f2-4c97-a76f-98fcc984af0b",
   "metadata": {},
   "outputs": [],
   "source": [
    "# Check for basic info and missing values\n",
    "df.info()\n",
    "# Display the first few rows\n",
    "df.head()\n"
   ]
  },
  {
   "cell_type": "markdown",
   "id": "e10a3b40-c699-4548-906f-4f3b12be25ec",
   "metadata": {},
   "source": [
    "Handling missing values"
   ]
  },
  {
   "cell_type": "code",
   "execution_count": null,
   "id": "f270d3fe-65e4-41c2-ad37-9267ce982497",
   "metadata": {},
   "outputs": [],
   "source": [
    "# Check for missing values\n",
    "df.isnull().sum()"
   ]
  },
  {
   "cell_type": "markdown",
   "id": "5d0c4b25-c99c-4255-9774-bd3fe459a8fb",
   "metadata": {},
   "source": [
    " We know that house price is the targert and bedrooms,sqftArea and age  are features. "
   ]
  },
  {
   "cell_type": "markdown",
   "id": "af0875ee-8c65-48af-8c5d-385b62f483e5",
   "metadata": {},
   "source": [
    "Exploring Relationships Between Features and Target."
   ]
  },
  {
   "cell_type": "markdown",
   "id": "c464b3cd-95a0-444c-bd66-3fbb3414cee9",
   "metadata": {},
   "source": [
    "                      Price vs SqFtArea"
   ]
  },
  {
   "cell_type": "code",
   "execution_count": null,
   "id": "c4e8b494-ac2e-41af-85cf-ab1022b835e2",
   "metadata": {},
   "outputs": [],
   "source": [
    "# Scatter plot for House Price vs. SqFtArea\n",
    "plt.figure(figsize=(8, 6))#8 and 6 indicat width and height \n",
    "\n",
    "# Scatter plot for House Price vs. SqFtArea\n",
    "plt.scatter(df['SqFtArea'], df['House Price in Birr'], color='blue', label='Data Points')\n",
    "\n",
    "# Fitting a line (linear regression)\n",
    "m, b = np.polyfit(df['SqFtArea'], df['House Price in Birr'], 1)  # Fit a line: m = slope, b = intercept\n",
    "plt.plot(df['SqFtArea'], m * df['SqFtArea'] + b, color='red', label='Fitted Line')\n",
    "\n",
    "# Plotting title and labels\n",
    "plt.title('House Price vs. Square Foot Area with Fitted Line')\n",
    "plt.xlabel('Square Foot Area')\n",
    "plt.ylabel('House Price in Birr')\n",
    "\n",
    "# Show legend and plot\n",
    "plt.legend()\n",
    "plt.show()\n"
   ]
  },
  {
   "cell_type": "markdown",
   "id": "2e4c9a1e-bdcf-4246-a10f-e319ca83d23b",
   "metadata": {},
   "source": [
    "                         price vs bedrooms"
   ]
  },
  {
   "cell_type": "code",
   "execution_count": null,
   "id": "7f31cbbb-bb38-48a6-9112-f920f9837b94",
   "metadata": {},
   "outputs": [],
   "source": [
    "# Scatter plot for House Price vs. Bedrooms\n",
    "plt.figure(figsize=(8, 6))\n",
    "\n",
    "# Scatter plot for House Price vs. Bedrooms\n",
    "plt.scatter(df['Bedrooms'], df['House Price in Birr'], color='blue', label='Data Points')\n",
    "\n",
    "# Fitting a line (linear regression)\n",
    "m, b = np.polyfit(df['Bedrooms'], df['House Price in Birr'], 1)  # Fit a line: m = slope, b = intercept\n",
    "plt.plot(df['Bedrooms'], m * df['Bedrooms'] + b, color='red', label='Fitted Line')\n",
    "\n",
    "# Plotting title and labels\n",
    "plt.title('House Price vs. Number of Bedrooms with Fitted Line')\n",
    "plt.xlabel('Number of Bedrooms')\n",
    "plt.ylabel('House Price in Birr')\n",
    "\n",
    "# Show legend and plot\n",
    "plt.legend()\n",
    "plt.show()"
   ]
  },
  {
   "cell_type": "markdown",
   "id": "dec805a8-5fe8-4a13-a57f-e0f23dab83b9",
   "metadata": {},
   "source": [
    "                                   Price vs Area"
   ]
  },
  {
   "cell_type": "code",
   "execution_count": null,
   "id": "cdb02e23-c801-4a98-a8ee-bca1edfa2177",
   "metadata": {},
   "outputs": [],
   "source": [
    "# Scatter plot for House Price vs. Age\n",
    "plt.figure(figsize=(8, 6))\n",
    "\n",
    "# Scatter plot for House Price vs. Age\n",
    "plt.scatter(df['Age'], df['House Price in Birr'], color='blue', label='Data Points')\n",
    "\n",
    "# Fitting a line (linear regression)\n",
    "m, b = np.polyfit(df['Age'], df['House Price in Birr'], 1)  # Fit a line: m = slope, b = intercept\n",
    "plt.plot(df['Age'], m * df['Age'] + b, color='red', label='Fitted Line')\n",
    "\n",
    "# Plotting title and labels\n",
    "plt.title('House Price vs Age with Fitted Line')\n",
    "plt.xlabel('Age')\n",
    "plt.ylabel('House Price in Birr')\n",
    "\n",
    "# Show legend and plot\n",
    "plt.legend()\n",
    "plt.show()\n"
   ]
  },
  {
   "cell_type": "markdown",
   "id": "b91e7e66-38d5-40ac-b8c5-f01028fafe78",
   "metadata": {},
   "source": [
    "                Let show them on correlation matrix"
   ]
  },
  {
   "cell_type": "code",
   "execution_count": null,
   "id": "0b62da6d-c5bc-428d-bb41-826753920bc0",
   "metadata": {
    "scrolled": true
   },
   "outputs": [],
   "source": [
    "# Compute the correlation matrix\n",
    "corr_matrix = df.corr()\n",
    "\n",
    "# Plotting the correlation matrix\n",
    "plt.figure(figsize=(8, 6))\n",
    "plt.matshow(corr_matrix, cmap='coolwarm', fignum=1)  # Plotting the correlation matrix as a heatmap\n",
    "plt.colorbar()\n",
    "plt.title('Correlation Matrix heat map ', pad=20)\n",
    "\n",
    "# Adding the correlation matrix values on the heatmap\n",
    "for (i, j), val in np.ndenumerate(corr_matrix.values):\n",
    "    plt.text(j, i, f'{val:.2f}', ha='center', va='center', color='black')\n",
    "\n",
    "plt.xticks(np.arange(len(corr_matrix.columns)), corr_matrix.columns, rotation=45)\n",
    "plt.yticks(np.arange(len(corr_matrix.index)), corr_matrix.index)\n",
    "plt.show()"
   ]
  },
  {
   "cell_type": "markdown",
   "id": "9f3ec844-8e2b-41fa-bef6-5204a97fe73a",
   "metadata": {},
   "source": [
    "  let's split the data in to training(70%) and tasting(30)"
   ]
  },
  {
   "cell_type": "code",
   "execution_count": null,
   "id": "b0e40629-34b0-4960-9c42-4e4af418db2d",
   "metadata": {},
   "outputs": [],
   "source": [
    "# Define features (X) and target variable (y)\n",
    "X = df[['Bedrooms', 'SqFtArea', 'Age']]  # Features\n",
    "y = df['House Price in Birr']  # Target variable\n",
    "\n",
    "# Split the data into training and test sets\n",
    "X_train, X_test, y_train, y_test = train_test_split(X, y, test_size=0.3, random_state=42)\n",
    "\n",
    "# Display the shape of the resulting datasets\n",
    "print(f\"Training set size: {X_train.shape[0]} samples\")\n",
    "print(f\"Test set size: {X_test.shape[0]} samples\")"
   ]
  },
  {
   "cell_type": "markdown",
   "id": "f718bc32-7373-4eb1-8272-1dc80230da26",
   "metadata": {},
   "source": [
    "  We are going to use multiple linear regression model to predict the house price"
   ]
  },
  {
   "cell_type": "markdown",
   "id": "8a69bd13-c39a-4e9b-a294-b1cff51d4a10",
   "metadata": {},
   "source": [
    " Let's train the model using the training data sets"
   ]
  },
  {
   "cell_type": "code",
   "execution_count": null,
   "id": "545a55a3-eebe-4095-9507-7eb32df3e3c9",
   "metadata": {},
   "outputs": [],
   "source": [
    "# Define the model\n",
    "mlr_model = LinearRegression()\n",
    "\n",
    "# Train the model on the training data\n",
    "mlr_model.fit(X_train, y_train)\n",
    "\n",
    "# Predict on the test data\n",
    "y_pred = mlr_model.predict(X_test)"
   ]
  },
  {
   "cell_type": "markdown",
   "id": "59d310c5-d375-4b8f-b4e4-33c652ede395",
   "metadata": {},
   "source": [
    "Now let's evaluate  our models"
   ]
  },
  {
   "cell_type": "code",
   "execution_count": null,
   "id": "e144a880-a6ee-4c76-8ce2-c5c7f400f795",
   "metadata": {},
   "outputs": [],
   "source": [
    "# Evaluate the model\n",
    "mse = mean_squared_error(y_test, y_pred)  # Mean Squared Error\n",
    "r2 = r2_score(y_test, y_pred)  # R-squared Score\n",
    "\n",
    "# Print results\n",
    "print(\"Multiple Linear Regression Results:\")\n",
    "print(f\"Mean Squared Error: {mse:.2f}\")\n",
    "print(f\"R-squared: {r2:.2f}\")\n"
   ]
  },
  {
   "cell_type": "markdown",
   "id": "7ab81635-cc73-4529-b759-26849e71e214",
   "metadata": {},
   "source": [
    "\n",
    "\n",
    "From the above result (Mean Squared Error: 85561197961531.09\n",
    "R-squared: -11.24),  the model has poor predictive power and is failing to capture the relationship between the features and the target variable.\n",
    "The MSE is very large, suggesting the model is making substantial errors in its predictions. This is often a sign of an inappropriate model or issues in the data.\n"
   ]
  },
  {
   "cell_type": "markdown",
   "id": "ffcd0263-29c4-42ef-87cf-bbcc713b6a12",
   "metadata": {},
   "source": [
    "So what shall we do ?\n",
    "We prefer to clean the data again and try to remove the outliers using  IQR method which improve our data quality."
   ]
  },
  {
   "cell_type": "markdown",
   "id": "e6c270e5-b4f4-42d9-a1d1-43a583bb9da1",
   "metadata": {},
   "source": [
    "        Remove Outliers using  IQR method"
   ]
  },
  {
   "cell_type": "code",
   "execution_count": null,
   "id": "8041099a-7e35-4be1-96c0-72991703586e",
   "metadata": {},
   "outputs": [],
   "source": [
    "# Removing outliers using IQR method\n",
    "Q1 = df.quantile(0.25)\n",
    "Q3 = df.quantile(0.75)\n",
    "IQR = Q3 - Q1\n",
    "df = df[~((df < (Q1 - 1.5 * IQR)) | (df > (Q3 + 1.5 * IQR))).any(axis=1)]\n"
   ]
  },
  {
   "cell_type": "markdown",
   "id": "ef74b1e8-356e-4d8a-a9bf-019ae9023190",
   "metadata": {},
   "source": [
    "We going to use sklearn.preprocessing.StandardScaler  library and is used to standardize or normalize features by transforming them so that they have a mean of 0 (centered around 0) and a standard deviation of 1. "
   ]
  },
  {
   "cell_type": "code",
   "execution_count": null,
   "id": "9a1a8936-d4fd-4b42-b4f0-1f17f6324504",
   "metadata": {},
   "outputs": [],
   "source": [
    "from sklearn.preprocessing import StandardScaler\n",
    "scaler = StandardScaler()\n",
    "df[['Bedrooms', 'SqFtArea', 'Age']] = scaler.fit_transform(df[['Bedrooms', 'SqFtArea', 'Age']])\n"
   ]
  },
  {
   "cell_type": "markdown",
   "id": "acfd267b-477c-47c8-bc65-90a5c0d72087",
   "metadata": {},
   "source": [
    "Correlation Analysis: Identify which features are most correlated with House Price in Birr"
   ]
  },
  {
   "cell_type": "code",
   "execution_count": null,
   "id": "a942c516-fb1f-468c-bc63-d4f1804517a5",
   "metadata": {
    "jupyter": {
     "source_hidden": true
    }
   },
   "outputs": [],
   "source": [
    "correlation_matrix = df.corr()\n",
    "print(correlation_matrix['House Price in Birr'].sort_values(ascending=False))\n"
   ]
  },
  {
   "cell_type": "code",
   "execution_count": null,
   "id": "65312b56-ec91-4f19-9061-8a6c0668fd60",
   "metadata": {},
   "outputs": [],
   "source": [
    "#Confirm the linearity between features and the target:\n",
    "for feature in ['Bedrooms', 'SqFtArea', 'Age']:\n",
    "    plt.figure(figsize=(8, 6))\n",
    "    plt.scatter(df[feature], df['House Price in Birr'], alpha=0.6)\n",
    "    plt.title(f'House Price vs {feature}')\n",
    "    plt.xlabel(feature)\n",
    "    plt.ylabel('House Price in Birr')\n",
    "    plt.show()"
   ]
  },
  {
   "cell_type": "code",
   "execution_count": null,
   "id": "9310e88e-5b67-4d83-8ccd-d2376b914cb3",
   "metadata": {},
   "outputs": [],
   "source": [
    "X = df[['Bedrooms', 'SqFtArea', 'Age']]  # Features\n",
    "y = df['House Price in Birr']            # Target\n",
    "\n",
    "X_train, X_test, y_train, y_test = train_test_split(X, y, test_size=0.3, random_state=42)\n",
    "# Display the shape of the resulting datasets\n",
    "print(f\"Training set size: {X_train.shape[0]} samples\")\n",
    "print(f\"Test set size: {X_test.shape[0]} samples\")\n"
   ]
  },
  {
   "cell_type": "markdown",
   "id": "b9c71dd1-1734-4dff-b385-9217cad76972",
   "metadata": {},
   "source": [
    "Again we are going to use multiple linear regression "
   ]
  },
  {
   "cell_type": "code",
   "execution_count": null,
   "id": "585983fe-7c2b-450d-aa57-4e0133e2cd7f",
   "metadata": {},
   "outputs": [],
   "source": [
    "# Train model\n",
    "model = LinearRegression()\n",
    "model.fit(X_train, y_train)\n",
    "\n",
    "# Make predictions\n",
    "y_pred = model.predict(X_test)\n"
   ]
  },
  {
   "cell_type": "markdown",
   "id": "e0e846d8-69b7-423b-a275-8340ca11c5be",
   "metadata": {},
   "source": [
    " Evaluating the model"
   ]
  },
  {
   "cell_type": "code",
   "execution_count": null,
   "id": "9031a4a6-87df-4afb-82ca-4b3869d77ef7",
   "metadata": {},
   "outputs": [],
   "source": [
    "# Evaluate the model\n",
    "mse = mean_squared_error(y_test, y_pred)\n",
    "r2 = r2_score(y_test, y_pred)\n",
    "\n",
    "print(f'Mean Squared Error: {mse}')\n",
    "print(f'R-squared: {r2}')\n"
   ]
  },
  {
   "cell_type": "markdown",
   "id": "6e87cc88-0417-4630-96b8-dff37ec4a200",
   "metadata": {},
   "source": [
    "Now our model is much better than before"
   ]
  },
  {
   "cell_type": "markdown",
   "id": "d238f84b-ae9d-4d47-876d-4793fdf1302a",
   "metadata": {},
   "source": [
    "  Interpret regression coefficients."
   ]
  },
  {
   "cell_type": "code",
   "execution_count": null,
   "id": "78cba413-9d6e-438a-991c-9066b497f602",
   "metadata": {},
   "outputs": [],
   "source": [
    "# Accessing the coefficients\n",
    "coefficients = model.coef_\n",
    "# Accessing the intercept \n",
    "intercept = model.intercept_\n",
    "\n",
    "# Displaying the results\n",
    "print(\"Intercept:\", intercept)\n",
    "print(\"Coefficients:\", coefficients)"
   ]
  },
  {
   "cell_type": "code",
   "execution_count": null,
   "id": "80b1b521-0343-4089-9b3a-d3def62cd4f6",
   "metadata": {},
   "outputs": [],
   "source": [
    "# Calculate residuals: Actual values - Predicted values\n",
    "residuals = y_test - y_pred\n",
    "print(residuals)\n"
   ]
  },
  {
   "cell_type": "code",
   "execution_count": null,
   "id": "41f6acf0-54b5-4804-b945-c4e2813df233",
   "metadata": {},
   "outputs": [],
   "source": [
    "# Create scatter plots of residuals vs each feature\n",
    "features = ['Bedrooms', 'SqFtArea', 'Age']\n",
    "for feature in features:\n",
    "    plt.figure(figsize=(8, 6))\n",
    "    #plt.scatter(X_test[feature], residuals, alpha=0.6)\n",
    "    plt.axhline(y=0, color='r', linestyle='--')  # Red dashed line at zero residuals\n",
    "    plt.title(f'residuals vs {feature}')\n",
    "    plt.xlabel(feature)\n",
    "    plt.ylabel('residuals')\n",
    "    plt.show()"
   ]
  },
  {
   "cell_type": "markdown",
   "id": "6399f2d5-7d86-4e3b-9ae0-78fa1c4ae342",
   "metadata": {},
   "source": [
    "Group Members:         ID\n",
    " 1. Mohammedkemal      1601534\n",
    " 2. Rekik              1601577\n",
    " 3. Rediet             1601573\n",
    " 4. Lamesgn            1601853\n",
    " 5. Rediet             1601572"
   ]
  },
  {
   "cell_type": "code",
   "execution_count": null,
   "id": "1f8a19bf-6e98-47f1-af3c-5bbab1e484a0",
   "metadata": {},
   "outputs": [],
   "source": []
  },
  {
   "cell_type": "code",
   "execution_count": null,
   "id": "ae362906-415b-4b49-bab1-93d565a777e8",
   "metadata": {},
   "outputs": [],
   "source": []
  },
  {
   "cell_type": "code",
   "execution_count": null,
   "id": "bda8b94e-4d34-4577-a3d4-88e3674d7679",
   "metadata": {},
   "outputs": [],
   "source": []
  }
 ],
 "metadata": {
  "kernelspec": {
   "display_name": "Python 3 (ipykernel)",
   "language": "python",
   "name": "python3"
  },
  "language_info": {
   "codemirror_mode": {
    "name": "ipython",
    "version": 3
   },
   "file_extension": ".py",
   "mimetype": "text/x-python",
   "name": "python",
   "nbconvert_exporter": "python",
   "pygments_lexer": "ipython3",
   "version": "3.11.1"
  }
 },
 "nbformat": 4,
 "nbformat_minor": 5
}
